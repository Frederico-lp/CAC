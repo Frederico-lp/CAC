{
 "cells": [
  {
   "cell_type": "code",
   "execution_count": 3,
   "metadata": {},
   "outputs": [
    {
     "name": "stdout",
     "output_type": "stream",
     "text": [
      "            0            1               2           3               4   \\\n",
      "0  marketplace  customer_id       review_id  product_id  product_parent   \n",
      "1           US     17747349  R2EI7QLPK4LF7U  B00U7LCE6A       106182406   \n",
      "2           US     10956619  R1W5OMFK1Q3I3O  B00HRJMOM4       162269768   \n",
      "3           US     13132245   RPZWSYWRP92GI  B00P31G9PQ       831433899   \n",
      "4           US     35717248  R2WQWM04XHD9US  B00FGDEPDY       991059534   \n",
      "\n",
      "                                           5                 6            7   \\\n",
      "0                               product_title  product_category  star_rating   \n",
      "1                    CCleaner Free [Download]  Digital_Software            4   \n",
      "2          ResumeMaker Professional Deluxe 18  Digital_Software            3   \n",
      "3                   Amazon Drive Desktop [PC]  Digital_Software            1   \n",
      "4  Norton Internet Security 1 User 3 Licenses  Digital_Software            5   \n",
      "\n",
      "              8            9     10                 11                  12  \\\n",
      "0  helpful_votes  total_votes  vine  verified_purchase     review_headline   \n",
      "1              0            0     N                  Y          Four Stars   \n",
      "2              0            0     N                  Y         Three Stars   \n",
      "3              1            2     N                  Y            One Star   \n",
      "4              0            0     N                  Y  Works as Expected!   \n",
      "\n",
      "                              13           14  \n",
      "0                    review_body  review_date  \n",
      "1                 So far so good   2015-08-31  \n",
      "2  Needs a little more work.....   2015-08-31  \n",
      "3                 Please cancel.   2015-08-31  \n",
      "4             Works as Expected!   2015-08-31  \n"
     ]
    },
    {
     "name": "stderr",
     "output_type": "stream",
     "text": [
      "C:\\Users\\Frederico\\AppData\\Local\\Temp\\ipykernel_1580\\643836554.py:6: DtypeWarning: Columns (1,4,7,8,9) have mixed types. Specify dtype option on import or set low_memory=False.\n",
      "  df = pd.read_csv('amazon_reviews_us_Digital_Software_v1_00.tsv', sep='\\t', header=None, on_bad_lines='skip')\n"
     ]
    }
   ],
   "source": [
    "import pandas as pd\n",
    "import numpy as np\n",
    "from collections import Counter\n",
    "\n",
    "# dataset is accessible at https://s3.amazonaws.com/amazon-reviews-pds/tsv/index.txt (https://s3.amazonaws.com/amazon-reviews-pds/tsv/amazon_reviews_us_Books_v1_02.tsv.gz)\n",
    "df = pd.read_csv('amazon_reviews_us_Digital_Software_v1_00.tsv', sep='\\t', header=None, on_bad_lines='skip')\n",
    "\n",
    "print(df.head())"
   ]
  },
  {
   "cell_type": "code",
   "execution_count": 4,
   "metadata": {},
   "outputs": [
    {
     "name": "stdout",
     "output_type": "stream",
     "text": [
      "<class 'pandas.core.frame.DataFrame'>\n",
      "RangeIndex: 101837 entries, 0 to 101836\n",
      "Data columns (total 15 columns):\n",
      " #   Column  Non-Null Count   Dtype \n",
      "---  ------  --------------   ----- \n",
      " 0   0       101837 non-null  object\n",
      " 1   1       101837 non-null  object\n",
      " 2   2       101837 non-null  object\n",
      " 3   3       101837 non-null  object\n",
      " 4   4       101837 non-null  object\n",
      " 5   5       101837 non-null  object\n",
      " 6   6       101837 non-null  object\n",
      " 7   7       101837 non-null  object\n",
      " 8   8       101837 non-null  object\n",
      " 9   9       101837 non-null  object\n",
      " 10  10      101837 non-null  object\n",
      " 11  11      101837 non-null  object\n",
      " 12  12      101837 non-null  object\n",
      " 13  13      101837 non-null  object\n",
      " 14  14      101832 non-null  object\n",
      "dtypes: object(15)\n",
      "memory usage: 11.7+ MB\n"
     ]
    }
   ],
   "source": [
    "df.shape\n",
    "df.info()"
   ]
  },
  {
   "cell_type": "code",
   "execution_count": 5,
   "metadata": {},
   "outputs": [
    {
     "name": "stdout",
     "output_type": "stream",
     "text": [
      "   marketplace  customer_id       review_id  product_id  product_parent  \\\n",
      "0  marketplace  customer_id       review_id  product_id  product_parent   \n",
      "1           US     17747349  R2EI7QLPK4LF7U  B00U7LCE6A       106182406   \n",
      "2           US     10956619  R1W5OMFK1Q3I3O  B00HRJMOM4       162269768   \n",
      "3           US     13132245   RPZWSYWRP92GI  B00P31G9PQ       831433899   \n",
      "4           US     35717248  R2WQWM04XHD9US  B00FGDEPDY       991059534   \n",
      "\n",
      "                                product_title  product_category  star_rating  \\\n",
      "0                               product_title  product_category  star_rating   \n",
      "1                    CCleaner Free [Download]  Digital_Software            4   \n",
      "2          ResumeMaker Professional Deluxe 18  Digital_Software            3   \n",
      "3                   Amazon Drive Desktop [PC]  Digital_Software            1   \n",
      "4  Norton Internet Security 1 User 3 Licenses  Digital_Software            5   \n",
      "\n",
      "   helpful_votes  total_votes  vine  verified_purchase     review_headline  \\\n",
      "0  helpful_votes  total_votes  vine  verified_purchase     review_headline   \n",
      "1              0            0     N                  Y          Four Stars   \n",
      "2              0            0     N                  Y         Three Stars   \n",
      "3              1            2     N                  Y            One Star   \n",
      "4              0            0     N                  Y  Works as Expected!   \n",
      "\n",
      "                     review_body  review_date  \n",
      "0                    review_body  review_date  \n",
      "1                 So far so good   2015-08-31  \n",
      "2  Needs a little more work.....   2015-08-31  \n",
      "3                 Please cancel.   2015-08-31  \n",
      "4             Works as Expected!   2015-08-31  \n"
     ]
    }
   ],
   "source": [
    "df.columns = ['marketplace', 'customer_id', 'review_id', 'product_id', 'product_parent', 'product_title', 'product_category', 'star_rating', \n",
    "            'helpful_votes', 'total_votes', 'vine', 'verified_purchase', 'review_headline', 'review_body', 'review_date']\n",
    "\n",
    "print(df.head())"
   ]
  },
  {
   "cell_type": "code",
   "execution_count": 6,
   "metadata": {},
   "outputs": [],
   "source": [
    "from sklearn.model_selection import train_test_split \n",
    "\n",
    "train, test = train_test_split(df, test_size=0.30, random_state=42)\n"
   ]
  },
  {
   "attachments": {},
   "cell_type": "markdown",
   "metadata": {},
   "source": [
    "## Sentiment analysis"
   ]
  },
  {
   "cell_type": "code",
   "execution_count": 11,
   "metadata": {},
   "outputs": [
    {
     "name": "stdout",
     "output_type": "stream",
     "text": [
      "['Great app!!', \"Microsoft needs to fix the bugs in Outlook.  That's all I have found so far.  There's probably more, I am sure.\", \"Easy purchase. Download was smooth. I was hesitant with a download, but there was never any problems. It's nice having a product within a couple minutes of purchasing it. Nice!\", \"I was thankful I was able to purchase this & download ASAP!!! Not being protected these days is the worse thing, & easiest to forget about.  To many people are able to access your information.  I would advise everybody to keep up with your computers virus ware coverage dates but if your like me & have a lot to do don't worry Amazon is here for you :)\", \"Great program, some features do not work perfect on my Encore Write tablet but over all it's a pretty good program.\", 'Avast lives up to its billing as being a all inclusive anti-virus software and protects me from harmful attacks against my computer.', 'I\\'ve been using TT for more than ten years. Unfortunately, this year, the program simply doesn\\'t work.  I am using Windows 2007, and Google Chrome as a browser.  I had trouble downloading the updates so I thought \\\\\\\\\"okay, I realize Congress waited until the last minute--I\\'ll come back to it.\\\\\\\\\"  I went ahead and did my entire tax return, and then I went back to try to download the updates.  The downloads \\\\\\\\\"stalled\\\\\\\\\" after about 2 minutes.  I tried several times, always with the same result.  I tried simply filing the return without the updates--not the best idea, but it\\'s a pretty simple return.  The program will not allow me to e-file (although of course it took my $19.95 to electronically file the state return). Intuit clearly knows about the problem, because there is a \\\\\\\\\"superpatch\\\\\\\\\" on the website to download manually.  Unfortunately, the same thing happened when I tried to download the \\\\\\\\\"superpatch\\\\\\\\\".  I\\'ve spent hours on hold, repeatedly attempting downloads, and trying to contact TuboTax--all unsuccessful.  The company clearly knows about this problem and is doing very little to address it.  Not satisfactory.  Seems like TT is  fine as long as everything works, but when there is a glitch in the program, the company is nowhere to be found.  My taxes are not filed, and I have an appointment with H & R Block.', 'Worked well in my new printer.', \"It's so much harder to do things in Quicken compared to Microsoft Money.  You might think that it's a lack of familiarity with the product but, I was compelled to move to Quicken over 2 years ago because Microsoft opted to leave the market.  It's one thing after another with Quicken.  My paychecks have stopped propagating on the predefined scheduled. I could not re-categorized expenses associated with split transactions.  And - back to the paycheck, for reasons I cannot deduce, it's duplicating transfer transactions.  My paycheck automatically deposits into savings, checking, and vacation accounts.  I set up the paycheck to deposit into these accounts.  It replicated transactions in savings and vacation accounts so they were very overstated.  If there were any other options, I would buy them.\", 'The product has worked great. I have seen improvement with my music comprehension because of this program']\n"
     ]
    }
   ],
   "source": [
    "reviews = list()\n",
    "for review in train['review_body']:\n",
    "    reviews.append(review)\n",
    "\n",
    "print(reviews[:10])"
   ]
  },
  {
   "cell_type": "code",
   "execution_count": 8,
   "metadata": {},
   "outputs": [
    {
     "name": "stdout",
     "output_type": "stream",
     "text": [
      "['great app', 'microsoft need fix bug outlook found far probabl sure', 'easi purchas download smooth hesit download never problem nice product within coupl minut purchas nice', 'thank abl purchas download asap protect day wors thing easiest forget mani peopl abl access inform would advis everybodi keep comput viru ware coverag date like lot worri amazon', 'great program featur work perfect encor write tablet pretti good program', 'avast live bill inclus anti viru softwar protect harm attack comput', 'use tt ten year unfortun year program simpli work use window googl chrome browser troubl download updat thought okay realiz congress wait last minut come back went ahead entir tax return went back tri download updat download stall minut tri sever time alway result tri simpli file return without updat best idea pretti simpl return program allow e file although cours took electron file state return intuit clearli know problem superpatch websit download manual unfortun thing happen tri download superpatch spent hour hold repeatedli attempt download tri contact tubotax unsuccess compani clearli know problem littl address satisfactori seem like tt fine long everyth work glitch program compani nowher found tax file appoint h r block', 'work well new printer', 'much harder thing quicken compar microsoft money might think lack familiar product compel move quicken year ago microsoft opt leav market one thing anoth quicken paycheck stop propag predefin schedul could categor expens associ split transact back paycheck reason cannot deduc duplic transfer transact paycheck automat deposit save check vacat account set paycheck deposit account replic transact save vacat account overst option would buy', 'product work great seen improv music comprehens program']\n"
     ]
    }
   ],
   "source": [
    "import re\n",
    "from nltk.corpus import stopwords\n",
    "from nltk.stem.porter import PorterStemmer\n",
    "\n",
    "corpus = []\n",
    "ps = PorterStemmer()\n",
    "sw = set(stopwords.words('english'))\n",
    "for i in range(0, len(reviews)):\n",
    "    # get review and remove non alpha chars\n",
    "    review = re.sub('[^a-zA-Z]', ' ', reviews[i])\n",
    "    # to lower-case\n",
    "    review = review.lower()\n",
    "    # split into tokens, apply stemming and remove stop words\n",
    "    review = ' '.join([ps.stem(w) for w in review.split() if w not in sw])\n",
    "    corpus.append(review)\n",
    "\n",
    "print(corpus[:10])"
   ]
  },
  {
   "cell_type": "code",
   "execution_count": 12,
   "metadata": {},
   "outputs": [
    {
     "name": "stdout",
     "output_type": "stream",
     "text": [
      "['5', 3, 5, '5', '4', '5', 1, '5', 2, '5']\n"
     ]
    }
   ],
   "source": [
    "ratings = list()\n",
    "for rating in train['star_rating']:\n",
    "    ratings.append(rating)\n",
    "\n",
    "print(ratings[:10])"
   ]
  },
  {
   "cell_type": "code",
   "execution_count": null,
   "metadata": {},
   "outputs": [],
   "source": [
    "import torch\n",
    "from torch.utils.data import DataLoader, TensorDataset\n",
    "\n",
    "#create Tensor Dataset\n",
    "train_data=TensorDataset(torch.FloatTensor(train_x), torch.FloatTensor(train_y))\n",
    "test_data=TensorDataset(torch.FloatTensor(test_x), torch.FloatTensor(test_y))\n",
    "\n",
    "#dataloader\n",
    "batch_size=50\n",
    "train_loader=DataLoader(train_data, batch_size=batch_size, shuffle=True)\n",
    "test_loader=DataLoader(test_data, batch_size=batch_size, shuffle=True)"
   ]
  },
  {
   "cell_type": "code",
   "execution_count": null,
   "metadata": {},
   "outputs": [],
   "source": [
    "dataiter = iter(train_loader)\n",
    "sample_x, sample_y = dataiter.next()"
   ]
  }
 ],
 "metadata": {
  "kernelspec": {
   "display_name": "base",
   "language": "python",
   "name": "python3"
  },
  "language_info": {
   "codemirror_mode": {
    "name": "ipython",
    "version": 3
   },
   "file_extension": ".py",
   "mimetype": "text/x-python",
   "name": "python",
   "nbconvert_exporter": "python",
   "pygments_lexer": "ipython3",
   "version": "3.9.13"
  },
  "orig_nbformat": 4
 },
 "nbformat": 4,
 "nbformat_minor": 2
}
